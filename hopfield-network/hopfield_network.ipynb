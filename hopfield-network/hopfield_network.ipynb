{
 "cells": [
  {
   "cell_type": "code",
   "execution_count": 1,
   "metadata": {},
   "outputs": [],
   "source": [
    "import numpy as np\n",
    "import numpy.random as random\n",
    "import matplotlib.pyplot as plt\n",
    "import pickle, gzip, urllib.request, json\n",
    "from scipy.spatial.distance import hamming\n",
    "import copy"
   ]
  },
  {
   "cell_type": "code",
   "execution_count": 2,
   "metadata": {},
   "outputs": [],
   "source": [
    "#To ensure reproducibility\n",
    "random.seed(11)\n",
    "np.random.seed(11)"
   ]
  },
  {
   "cell_type": "code",
   "execution_count": 3,
   "metadata": {},
   "outputs": [],
   "source": [
    "\"\"\"\n",
    "\n",
    "This function calculate the average image from each category and find the image \n",
    "from each category which is furthest on average from the average image of  \n",
    "each other category using Hamming distance as the distance metric. The idea was to\n",
    "increase the accuracy of the Hopfield network and facilitate learning.\n",
    "\n",
    "\"\"\"\n",
    "\n",
    "def maximally_distant(images, labels):\n",
    "    patterns = np.zeros((10, 784))\n",
    "    inclass = []\n",
    "    avg_category_im = np.zeros((10, 784))\n",
    "    for category in range(0, 10):\n",
    "        inclass.append([i for i in range(labels.shape[0]) if labels[i] == category])\n",
    "        avg_category_im[category, :] = np.average([images[i, :] for i in inclass[category]], 0)\n",
    "    \n",
    "    #Find images from other categories that are maximally distant from average image already in the set\n",
    "    for category in range(0, 10):\n",
    "        distance = 0\n",
    "        image = 0\n",
    "        for j in range(len(inclass[category])):\n",
    "            avg_distance = 0\n",
    "            for c in range(10):\n",
    "                if c != category:\n",
    "                    avg_distance += hamming(images[inclass[category][j],:], avg_category_im[c,:])\n",
    "            avg_distance /= 9\n",
    "            if avg_distance > distance:\n",
    "                distance = avg_distance\n",
    "                image = inclass[category][j]\n",
    "        patterns[category,:] = images[image, :]\n",
    "    \n",
    "    return transform(patterns)\n",
    "\n",
    "\"\"\"\n",
    "This function returns a set of images that contains 1s and -1s\n",
    "\"\"\"\n",
    "def transform(patterns):\n",
    "    for i in range(len(patterns)):\n",
    "        patterns[i,:] = -2.0*(patterns[i,:] > 0) +1\n",
    "    return patterns\n",
    "\n",
    "\"\"\"\n",
    "This function was an attempt to further differentiate the images by padding them with 1s\n",
    "and shifting them within the enlarged matrix, also increasing the number of units from 784 to 1600\n",
    "\"\"\"\n",
    "def new_shape(position, image):\n",
    "    new_im = np.zeros((40,40))\n",
    "    for x in range(40):\n",
    "        for y in range(40):\n",
    "            if x>=position[0] and x<28 and y>=position[1] and y<28:\n",
    "                new_im[x,y] = image[x,y]\n",
    "            else:\n",
    "                new_im[x,y] = 1\n",
    "    return new_im.reshape((40*40))  "
   ]
  },
  {
   "cell_type": "code",
   "execution_count": 4,
   "metadata": {},
   "outputs": [],
   "source": [
    "# Load the dataset\n",
    "with gzip.open('mnist.pkl.gz', 'rb') as f:\n",
    "    train_set, valid_set, test_set = pickle.load(f, encoding='latin1')\n",
    "\n",
    "# Get the data into arrays\n",
    "images = train_set[0]\n",
    "labels = train_set[1]\n",
    "\n",
    "image_preprocessing = False #Flag that allows to do image preprocessing \n",
    "\n",
    "#Put aside an array for the patterns\n",
    "if image_preprocessing:\n",
    "    patterns_ = maximally_distant(images, labels)\n",
    "    patterns = np.zeros((10,1600))\n",
    "    y = 0\n",
    "    for img in range(10):\n",
    "        patterns[img,:] = new_shape([random.randint(2,10), \n",
    "                                     random.randint(0,10)], \n",
    "                                    patterns_[img, :].reshape((28,28)))\n",
    "    shape = (40,40)\n",
    "    size = 1600\n",
    "else:\n",
    "    patterns = np.zeros((10,784))\n",
    "    #Set aside one image per class to store (10 images in total)\n",
    "    for category in range(10):\n",
    "        inclass = [i for i in range(labels.shape[0]) if labels[i] == category]\n",
    "        patterns[category,:] = -2.0*(images[inclass[random.randint(0,len(inclass))],:] > 0) +1\n",
    "    shape = (28,28)\n",
    "    size = 784"
   ]
  },
  {
   "cell_type": "code",
   "execution_count": 5,
   "metadata": {},
   "outputs": [
    {
     "data": {
      "image/png": "[encoded data removed]",
      "text/plain": [
       "<Figure size 432x288 with 10 Axes>"
      ]
     },
     "metadata": {
      "needs_background": "light"
     },
     "output_type": "display_data"
    }
   ],
   "source": [
    "#Plot the patterns we're going to store\n",
    "fig, axs = plt.subplots(1,10)\n",
    "for c in range(10):\n",
    "    axs[c].imshow(patterns[c,:].reshape(shape), cmap='gray')\n",
    "    axs[c].axis(\"off\")\n",
    "plt.show()"
   ]
  },
  {
   "cell_type": "code",
   "execution_count": 6,
   "metadata": {},
   "outputs": [],
   "source": [
    "class hopfield_network(object):\n",
    "    \"\"\"\n",
    "    Define a class for a Hopfield network here.\n",
    "    You must also define the functions below, but you can add additional arguments, etc.\n",
    "    Also, note that you are welcome to write your own helper functions. \n",
    "    Reminder: you should use numpy functions for vector and matrix operations. No autograd!\n",
    "    \"\"\"\n",
    "    \n",
    "    # The initialization function for the hopfield network\n",
    "    def __init__(self,N):\n",
    "        \"\"\"\n",
    "        Comment!!!! Your marks depend on it!\n",
    "        \n",
    "        Notes: \n",
    "         - N is the number of units\n",
    "         - You must have a variable 'state' that represents the current network state\n",
    "        \"\"\"    \n",
    "        #Number of nodes\n",
    "        self.n = N\n",
    "        \n",
    "        # the current state of the network\n",
    "        self.state = np.zeros((N,))\n",
    "        \n",
    "        # Weight matrix    \n",
    "        self.W = np.zeros((N,N))\n",
    "        \n",
    "        #Thresholds\n",
    "        self.thresh = np.zeros((N,))\n",
    "        \n",
    "        #Learning rate\n",
    "        self.eta = 1/N \n",
    "        \n",
    "        #self.eta = 0.1. Another potential value informed by the number of memories stored.\n",
    "\n",
    "    \n",
    "    # The function for setting the activity state of the network\n",
    "    def set_state(self,activity):\n",
    "        \"\"\"\n",
    "        set_state(activity)\n",
    "        \n",
    "        Sets the state of the network to the pattern given by activity.\n",
    "        \n",
    "        You do not need to change this function.\n",
    "        \"\"\"\n",
    "        \n",
    "        # set the state to activity\n",
    "        self.state = copy.deepcopy(activity)\n",
    "        \n",
    "    # The function for updating the state of the network\n",
    "    def update(self):\n",
    "        \"\"\"\n",
    "        Comment!!!! Your marks depend on it!\n",
    "        \"\"\"\n",
    "        #Define a random sequence to update the node states\n",
    "        update_seq = [node for node in range(self.n)]\n",
    "        random.shuffle(update_seq)\n",
    "        update_seq = update_seq[0:int(self.n/4)] # Only update half of nodes every time\n",
    "        #For each node, use the threshold to set the state to 1 or -1\n",
    "        for node in update_seq:\n",
    "            net = (self.W[node, :]@self.state) \n",
    "            if net > self.thresh[node]:\n",
    "                self.state[node] = 1\n",
    "            else:\n",
    "                self.state[node] = -1\n",
    "                    \n",
    "        # return the state for easy storage\n",
    "        return self.state\n",
    "    \n",
    "    # The function for storing one image at a time\n",
    "    def store_one(self,image):\n",
    "        \"\"\"\n",
    "        Comment!!!! Your marks depend on it!\n",
    "        \"\"\"\n",
    "        \n",
    "        #Original weight update rule from 1982 paper\n",
    "        #for i in range(self.n):          \n",
    "            #for j in range(self.n):\n",
    "                #if i != j :\n",
    "                    #self.W[i,j] += self.eta*4*(image[i]-0.5)*(image[j]-0.5)\n",
    "                    #self.W[j,i] += self.eta*4*(image[i]-0.5)*(image[j]-0.5)\n",
    "            \n",
    "        #Weight update using the equations as seen in class \n",
    "        #Multiply the current weight (node) by all j nodes where j != node and store that vector as the ith row \n",
    "        #and the ith column. The method below guarantees to maintain the zero diagonal. \n",
    "        image_copy = copy.deepcopy(image)\n",
    "        for i in range(self.n-1):\n",
    "            deltaW = self.eta*(image_copy[i]*image_copy[i+1:])\n",
    "            self.W[i, i+1:] += deltaW\n",
    "            self.W[i+1:, i] += deltaW.T  \n",
    "        \n",
    "        #Thresholds are calculated using the update rule as seen in class\n",
    "        self.thresh -= self.eta*np.array(image)\n",
    "        \n",
    "        #Verify that the weight matrix is symmetric\n",
    "        assert np.array_equal(self.W, self.W.T)\n",
    "    \n",
    "    # The function for storing multiple images in one shot\n",
    "    def store_multi(self,images):\n",
    "        \"\"\"\n",
    "        Comment!!!! Your marks depend on it!\n",
    "        \"\"\"\n",
    "        #Here instead of looping, the algorithm makes use of matrix operations\n",
    "        #First calculate the dot product between the image transpose and the images\n",
    "        #Sums across images as desired and gets rid of self-weights\n",
    "        \n",
    "        self.W = self.eta*(images.T @ images)\n",
    "        np.fill_diagonal(self.W, 0)\n",
    "        self.thresh -= self.eta*np.array(sum(images))\n",
    "        \n",
    "        #Sanity check\n",
    "        assert self.thresh.shape == (self.n,)"
   ]
  },
  {
   "cell_type": "code",
   "execution_count": 7,
   "metadata": {},
   "outputs": [],
   "source": [
    "# Some helper functions for generating test images\n",
    "\n",
    "# The function for generating a noisy version of an image\n",
    "def image_noise(image,noise_level=0.1):\n",
    "    \"\"\"\n",
    "    new_image = test_noise(image)\n",
    "        \n",
    "    This function takes an image, adds noise to it, and returns it. \n",
    "\n",
    "    noise_level - between 0-1, try experimenting with this\n",
    "\n",
    "    \"\"\"\n",
    "    #Here, the algorithm first transforms the image back to binary, applies noise\n",
    "    #and returns the image with 1s and -1s\n",
    "    image = (image -1)/-2.0\n",
    "    # create a mask for adding noise to the image\n",
    "    image_mask = random.uniform(size=image.shape) < noise_level\n",
    "    image = np.logical_xor(image,image_mask)\n",
    "    return -2.0*image +1\n",
    "    \n",
    "# The function for generating a combo of two images\n",
    "def image_combo(image1,image2,image1_weight=0.5):\n",
    "    \"\"\"\n",
    "    newimage = test_combo(image1,image2)\n",
    "        \n",
    "    This function takes a pair of images, combines them, and returns the result.\n",
    "    \n",
    "    image1_weight - between 0-1, try experimenting with this\n",
    "\n",
    "    \"\"\"\n",
    "    \n",
    "    #Here, the algorithm first transforms the image back to binary, applies combination\n",
    "    #and returns the image with 1s and -1s\n",
    "    image1 = (image1 -1)/-2.0\n",
    "    image2 = (image2 -1)/-2.0\n",
    "    \n",
    "    # create a mask for mixing the images\n",
    "    image1_mask = random.uniform(size=image1.shape) < image1_weight\n",
    "    combo = image1_mask*image1 + (1-image1_mask)*image2\n",
    "    return -2.0*(combo) +1"
   ]
  },
  {
   "cell_type": "code",
   "execution_count": 8,
   "metadata": {
    "scrolled": true
   },
   "outputs": [
    {
     "data": {
      "image/png": "[encoded data removed]",
      "text/plain": [
       "<Figure size 432x288 with 9 Axes>"
      ]
     },
     "metadata": {
      "needs_background": "light"
     },
     "output_type": "display_data"
    }
   ],
   "source": [
    "# Selfnotes: test different images by varying noise and combo images weight\n",
    "# Test the helper functions to make sure they work\n",
    "\n",
    "# Pick some random images\n",
    "image1 = patterns[random.randint(0,10)]\n",
    "image2 = patterns[random.randint(0,10)]\n",
    "\n",
    "# Create a little array for storage\n",
    "test_images = np.zeros((2,3,size))\n",
    "\n",
    "# Generate a series of noise images\n",
    "test_images[0,0,:] = image_noise(image1)\n",
    "test_images[0,1,:] = image_noise(image1,noise_level=0.3)\n",
    "test_images[0,2,:] = image_noise(image1,noise_level=0.5)\n",
    "\n",
    "# Generate a series of combo images\n",
    "test_images[1,0,:] = image_combo(image1,image2,image1_weight=0.2)\n",
    "test_images[1,1,:] = image_combo(image1,image2)\n",
    "test_images[1,2,:] = image_combo(image1,image2,image1_weight=0.8)\n",
    "\n",
    "# Plot the images, plus the originals on top\n",
    "fig, axs = plt.subplots(3,3)\n",
    "axs[0,0].imshow(image1.reshape(shape), cmap='gray')\n",
    "axs[0,0].axis(\"off\")\n",
    "axs[0,1].imshow(image2.reshape(shape), cmap='gray')\n",
    "axs[0,1].axis(\"off\")\n",
    "axs[0,2].axis(\"off\")\n",
    "for c in range(3):\n",
    "    axs[1,c].imshow(test_images[0,c,:].reshape(shape), cmap='gray')\n",
    "    axs[1,c].axis(\"off\")\n",
    "    axs[2,c].imshow(test_images[1,c,:].reshape(shape), cmap='gray')\n",
    "    axs[2,c].axis(\"off\")\n",
    "plt.show()"
   ]
  },
  {
   "cell_type": "code",
   "execution_count": 9,
   "metadata": {},
   "outputs": [],
   "source": [
    "# Create a Hopfield network and train it\n",
    "\n",
    "one_pattern = False # flag for whether to store one pattern at a time\n",
    "\n",
    "hnet = hopfield_network(size) # construct the network\n",
    "\n",
    "if one_pattern:\n",
    "    # Train the network to store all the patterns using your store_one function\n",
    "    for i in range(0, 10):\n",
    "        hnet.store_one(patterns[i,:])\n",
    "else:\n",
    "    # Train the network to store all the patterns using your store_multi function \n",
    "    hnet.store_multi(patterns)"
   ]
  },
  {
   "cell_type": "code",
   "execution_count": 10,
   "metadata": {},
   "outputs": [
    {
     "data": {
      "image/png": "[encoded data removed]",
      "text/plain": [
       "<Figure size 432x288 with 20 Axes>"
      ]
     },
     "metadata": {
      "needs_background": "light"
     },
     "output_type": "display_data"
    },
    {
     "name": "stdout",
     "output_type": "stream",
     "text": [
      "Distance between recalled pattern and original pattern: 0.14795918367346939\n"
     ]
    }
   ],
   "source": [
    "# Plot generated images from your Hopfield network as it updates after receiving an initial pattern that is\n",
    "# a noisy version of an image that was stored\n",
    "\n",
    "# number of time-steps to run the network for\n",
    "numsteps = 10 # feel free to change this\n",
    "\n",
    "# create an array for storing activity states over time\n",
    "activity = np.zeros((numsteps, size))\n",
    "\n",
    "\n",
    "# test using a noisy version of a random image\n",
    "rand_image = patterns[random.randint(0,10),:]\n",
    "activity[0,:] = image_noise(rand_image)\n",
    "hnet.set_state(activity[0,:])\n",
    "for t in range(numsteps-1):\n",
    "    activity[t+1,:] = hnet.update()\n",
    "\n",
    "# plot the results\n",
    "fig, axs = plt.subplots(2,numsteps)\n",
    "axs[0,0].imshow(activity[0,:].reshape(shape), cmap='gray')\n",
    "axs[0,1].imshow(rand_image.reshape(shape), cmap='gray')\n",
    "for c in range(numsteps):\n",
    "    axs[1,c].imshow(activity[c,:].reshape(shape), cmap='gray')\n",
    "    axs[0,c].axis(\"off\")\n",
    "    axs[1,c].axis(\"off\")\n",
    "plt.show()\n",
    "print('Distance between recalled pattern and original pattern: {}'.format(hamming(activity[numsteps-1,:], activity[0,:])))"
   ]
  },
  {
   "cell_type": "code",
   "execution_count": 11,
   "metadata": {},
   "outputs": [
    {
     "data": {
      "image/png": "[encoded data removed]",
      "text/plain": [
       "<Figure size 432x288 with 20 Axes>"
      ]
     },
     "metadata": {
      "needs_background": "light"
     },
     "output_type": "display_data"
    },
    {
     "name": "stdout",
     "output_type": "stream",
     "text": [
      "Distance between recalled pattern and first pattern in combination: 0.06760204081632654\n",
      "Distance between recalled pattern and second pattern in combination: 0.06760204081632654\n"
     ]
    }
   ],
   "source": [
    "# Plot generated images from your Hopfield network as it updates after receiving an initial pattern that is\n",
    "# a combination of two images that were stored\n",
    "\n",
    "# number of time-steps to run the network for\n",
    "numsteps = 10 # feel free to change this\n",
    "\n",
    "# create an array for storing activity states over time\n",
    "activity = np.zeros((numsteps,size))\n",
    "\n",
    "# test using a combo of two random images\n",
    "rand_image1 = patterns[random.randint(0,10),:]\n",
    "rand_image2 = patterns[random.randint(0,10),:]\n",
    "activity[0,:] = image_combo(rand_image1,rand_image2)\n",
    "hnet.set_state(activity[0,:])\n",
    "for t in range(numsteps-1):\n",
    "    activity[t+1,:] = hnet.update()\n",
    "\n",
    "# plot the results\n",
    "fig, axs = plt.subplots(2,numsteps)\n",
    "axs[0,0].imshow(activity[0,:].reshape(shape), cmap='gray')\n",
    "axs[0,1].imshow(rand_image1.reshape(shape), cmap='gray')\n",
    "axs[0,2].imshow(rand_image2.reshape(shape), cmap='gray')\n",
    "for c in range(numsteps):\n",
    "    axs[1,c].imshow(activity[c,:].reshape(shape), cmap='gray')\n",
    "    axs[0,c].axis(\"off\")\n",
    "    axs[1,c].axis(\"off\")\n",
    "plt.show() \n",
    "print('Distance between recalled pattern and first pattern in combination: {}'.format(hamming(activity[numsteps-1,:], rand_image1)))\n",
    "print('Distance between recalled pattern and second pattern in combination: {}'.format(hamming(activity[numsteps-1,:], rand_image2)))"
   ]
  },
  {
   "cell_type": "code",
   "execution_count": 12,
   "metadata": {},
   "outputs": [],
   "source": [
    "\"\"\"\n",
    "Train a hopfield network on random patterns with a minimum Hamming distance 0f 0.5\n",
    "This allows us to generate a quasi-orthogonal set of patterns increasing the \n",
    "network's capacity and recall accuracy\n",
    "\"\"\"\n",
    "patterns_ = np.zeros((10, 100))\n",
    "min_dist = 0.5\n",
    "for p in range(10):\n",
    "    d = 0\n",
    "    while d < min_dist:\n",
    "        rand_p = random.randint(2, size=100)\n",
    "        d = sum([hamming(rand_p, patterns_[i,:]) for i in range(10)])/10 #Average Hamming distance\n",
    "    patterns_[p,:] = rand_p\n",
    "patterns_ = transform(patterns_)"
   ]
  },
  {
   "cell_type": "code",
   "execution_count": 13,
   "metadata": {},
   "outputs": [
    {
     "data": {
      "image/png": "[encoded data removed]",
      "text/plain": [
       "<Figure size 432x288 with 10 Axes>"
      ]
     },
     "metadata": {
      "needs_background": "light"
     },
     "output_type": "display_data"
    }
   ],
   "source": [
    "#Plot the patterns we're going to store\n",
    "fig, axs = plt.subplots(1,10)\n",
    "for c in range(10):\n",
    "    axs[c].imshow(patterns_[c,:].reshape((10,10)), cmap='gray')\n",
    "    axs[c].axis(\"off\")\n",
    "plt.show()"
   ]
  },
  {
   "cell_type": "code",
   "execution_count": 14,
   "metadata": {},
   "outputs": [],
   "source": [
    "hnet2 = hopfield_network(100)\n",
    "hnet2.store_multi(patterns_)"
   ]
  },
  {
   "cell_type": "code",
   "execution_count": 15,
   "metadata": {
    "scrolled": true
   },
   "outputs": [
    {
     "data": {
      "image/png": "[encoded data removed]",
      "text/plain": [
       "<Figure size 432x288 with 30 Axes>"
      ]
     },
     "metadata": {
      "needs_background": "light"
     },
     "output_type": "display_data"
    },
    {
     "name": "stdout",
     "output_type": "stream",
     "text": [
      "Distance between recalled pattern and original pattern: 0.12\n"
     ]
    }
   ],
   "source": [
    "# Plot generated images from the second Hopfield network as it updates after receiving an initial pattern that is\n",
    "# a noisy version of an image that was stored\n",
    "\n",
    "# number of time-steps to run the network for\n",
    "numsteps = 15 # feel free to change this\n",
    "\n",
    "# create an array for storing activity states over time\n",
    "activity = np.zeros((numsteps, 100))\n",
    "\n",
    "\n",
    "# test using a noisy version of a random image\n",
    "rand_image = patterns_[random.randint(0,10),:]\n",
    "activity[0,:] = image_noise(rand_image)\n",
    "hnet2.set_state(activity[0,:])\n",
    "for t in range(numsteps-1):\n",
    "    activity[t+1,:] = hnet2.update()\n",
    "\n",
    "# plot the results\n",
    "fig, axs = plt.subplots(2,numsteps)\n",
    "axs[0,0].imshow(activity[0,:].reshape((10,10)), cmap='gray')\n",
    "axs[0,1].imshow(rand_image.reshape((10,10)), cmap='gray')\n",
    "for c in range(numsteps):\n",
    "    axs[1,c].imshow(activity[c,:].reshape((10,10)), cmap='gray')\n",
    "    axs[0,c].axis(\"off\")\n",
    "    axs[1,c].axis(\"off\")\n",
    "plt.show()  \n",
    "print('Distance between recalled pattern and original pattern: {}'.format(hamming(activity[numsteps-1,:], activity[0, :])))"
   ]
  },
  {
   "cell_type": "markdown",
   "metadata": {},
   "source": [
    "Interestingly, as can be seen when running the cell above, th Hopfield network performs very well at remembering random patterns with a little noise. In this case, it did not average across images."
   ]
  },
  {
   "cell_type": "code",
   "execution_count": 16,
   "metadata": {},
   "outputs": [
    {
     "data": {
      "image/png": "[encoded data removed]",
      "text/plain": [
       "<Figure size 432x288 with 30 Axes>"
      ]
     },
     "metadata": {
      "needs_background": "light"
     },
     "output_type": "display_data"
    },
    {
     "name": "stdout",
     "output_type": "stream",
     "text": [
      "Distance between recalled pattern and original pattern: 1.0\n"
     ]
    }
   ],
   "source": [
    "#Present the complement to the net\n",
    "rand_image = (patterns_[random.randint(0,10),:])\n",
    "activity[0,:] = -2.0*np.logical_not((rand_image - 1)/-2.0) +1 \n",
    "hnet2.set_state(activity[0,:])\n",
    "for t in range(numsteps-1):\n",
    "    activity[t+1,:] = hnet2.update()\n",
    "\n",
    "# plot the results\n",
    "fig, axs = plt.subplots(2,numsteps)\n",
    "axs[0,0].imshow(activity[0,:].reshape((10,10)), cmap='gray')\n",
    "axs[0,1].imshow(rand_image.reshape((10,10)), cmap='gray')\n",
    "for c in range(numsteps):\n",
    "    axs[1,c].imshow(activity[c,:].reshape((10,10)), cmap='gray')\n",
    "    axs[0,c].axis(\"off\")\n",
    "    axs[1,c].axis(\"off\")\n",
    "plt.show()  \n",
    "print('Distance between recalled pattern and original pattern: {}'.format(hamming(activity[numsteps-1,:], rand_image)))"
   ]
  }
 ],
 "metadata": {
  "kernelspec": {
   "display_name": "Python 3",
   "language": "python",
   "name": "python3"
  },
  "language_info": {
   "codemirror_mode": {
    "name": "ipython",
    "version": 3
   },
   "file_extension": ".py",
   "mimetype": "text/x-python",
   "name": "python",
   "nbconvert_exporter": "python",
   "pygments_lexer": "ipython3",
   "version": "3.8.5"
  }
 },
 "nbformat": 4,
 "nbformat_minor": 4
}
